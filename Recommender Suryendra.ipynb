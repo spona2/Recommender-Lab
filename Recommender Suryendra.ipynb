{
 "metadata": {
  "name": "",
  "signature": "sha256:11b30dde0e6be20bf029b2843671fb27a0d02be32c094c8dfb57f1cc365ba606"
 },
 "nbformat": 3,
 "nbformat_minor": 0,
 "worksheets": [
  {
   "cells": [
    {
     "cell_type": "code",
     "collapsed": false,
     "input": [
      "import pandas as pd\n",
      "import numpy as np"
     ],
     "language": "python",
     "metadata": {},
     "outputs": [],
     "prompt_number": 18
    },
    {
     "cell_type": "code",
     "collapsed": false,
     "input": [
      "M = pd.read_csv('MovieReviews.csv', index_col='Name')"
     ],
     "language": "python",
     "metadata": {},
     "outputs": [],
     "prompt_number": 19
    },
    {
     "cell_type": "code",
     "collapsed": false,
     "input": [
      "def pearson(s1, s2):\n",
      "    \"\"\"Take two pd.Series objects and return a pearson correlation.\"\"\"\n",
      "    s1_c = s1 - s1.mean()\n",
      "    s2_c = s2 - s2.mean()\n",
      "    return np.sum(s1_c * s2_c) / np.sqrt(np.sum(s1_c ** 2) * np.sum(s2_c ** 2))"
     ],
     "language": "python",
     "metadata": {},
     "outputs": [],
     "prompt_number": 20
    },
    {
     "cell_type": "code",
     "collapsed": false,
     "input": [
      "def get_recs(movie_name, M, num):\n",
      "\n",
      "    import numpy as np\n",
      "    reviews = []\n",
      "    for title in M.columns:\n",
      "        if title == movie_name:\n",
      "            continue\n",
      "        cor = pearson(M[movie_name], M[title])\n",
      "        if np.isnan(cor):\n",
      "            continue\n",
      "        else:\n",
      "            reviews.append((title, cor))\n",
      "    \n",
      "    reviews.sort(key=lambda tup: tup[1], reverse=True)\n",
      "    return reviews[:num]\n",
      "\n",
      "    "
     ],
     "language": "python",
     "metadata": {},
     "outputs": [],
     "prompt_number": 21
    },
    {
     "cell_type": "markdown",
     "metadata": {},
     "source": [
      "###Question 1:  What movie is most Similar to 'The fault in our stars' (60 pts)\n"
     ]
    },
    {
     "cell_type": "code",
     "collapsed": false,
     "input": [
      "recs = get_recs('The Fault in Our Stars', M, 10)\n",
      "recs[:2]"
     ],
     "language": "python",
     "metadata": {},
     "outputs": [
      {
       "metadata": {},
       "output_type": "pyout",
       "prompt_number": 22,
       "text": [
        "[('The Hunger Games: Mockingjay - Part 1', 0.45141466942845776),\n",
        " ('Malificent', 0.44561594851797387)]"
       ]
      }
     ],
     "prompt_number": 22
    },
    {
     "cell_type": "markdown",
     "metadata": {},
     "source": [
      "###Question 2:  Which movie(s) would you most like to see, based on your classmates experience? (40 pts)"
     ]
    },
    {
     "cell_type": "code",
     "collapsed": false,
     "input": [
      "#HINTS...\n",
      "\n",
      "#the movies I've seen\n",
      "my_ratings = M.ix['Suyendra'].dropna()\n",
      "#the movie I've rated the highest\n",
      "my_ratings.sort(ascending=False)\n",
      "#the name of the movie I've rated the highest\n",
      "fav_movie = my_ratings.index[0]"
     ],
     "language": "python",
     "metadata": {},
     "outputs": [],
     "prompt_number": 23
    },
    {
     "cell_type": "code",
     "collapsed": false,
     "input": [
      "fav_movie"
     ],
     "language": "python",
     "metadata": {},
     "outputs": [
      {
       "metadata": {},
       "output_type": "pyout",
       "prompt_number": 24,
       "text": [
        "'300: Rise of an Empire'"
       ]
      }
     ],
     "prompt_number": 24
    },
    {
     "cell_type": "code",
     "collapsed": false,
     "input": [
      "my_ratings"
     ],
     "language": "python",
     "metadata": {},
     "outputs": [
      {
       "metadata": {},
       "output_type": "pyout",
       "prompt_number": 25,
       "text": [
        "300: Rise of an Empire                   5\n",
        "How to Train your Dragon 2               5\n",
        "The Hobbit                               5\n",
        "The Fault in Our Stars                   4\n",
        "Guardians of the Galaxy                  4\n",
        "Divergent                                3\n",
        "Godzilla                                 3\n",
        "Big Hero 6                               3\n",
        "Malificent                               3\n",
        "The Lego Movie                           3\n",
        "The Hunger Games: Mockingjay - Part 1    3\n",
        "Unbroken                                 2\n",
        "Transformers                             2\n",
        "Name: Suyendra, dtype: float64"
       ]
      }
     ],
     "prompt_number": 25
    },
    {
     "cell_type": "code",
     "collapsed": false,
     "input": [
      "recs = get_recs(fav_movie, M, 5)"
     ],
     "language": "python",
     "metadata": {},
     "outputs": [],
     "prompt_number": 26
    },
    {
     "cell_type": "code",
     "collapsed": false,
     "input": [
      "recs[:5]"
     ],
     "language": "python",
     "metadata": {},
     "outputs": [
      {
       "metadata": {},
       "output_type": "pyout",
       "prompt_number": 27,
       "text": [
        "[('How to Train your Dragon 2', 0.42700908102727386),\n",
        " ('American Sniper', 0.26818209324521319),\n",
        " ('The Hobbit', 0.25945076581705434),\n",
        " ('Unbroken', 0.15254675521247943),\n",
        " ('Interstellar', 0.06919661336811575)]"
       ]
      }
     ],
     "prompt_number": 27
    },
    {
     "cell_type": "markdown",
     "metadata": {},
     "source": [
      "###Question 3: Bonus Question...  For all the movies you haven't seen, can you predict how you'd rate them using your the class reviews? (10 pts)"
     ]
    },
    {
     "cell_type": "code",
     "collapsed": false,
     "input": [
      "not_rated = M.ix['Suyendra']\n",
      "not_rated.sort()\n",
      "for i in range(0, not_rated.count(), 1):\n",
      "    not_rated.drop(not_rated.index[0], inplace=True)"
     ],
     "language": "python",
     "metadata": {},
     "outputs": [],
     "prompt_number": 28
    },
    {
     "cell_type": "code",
     "collapsed": false,
     "input": [
      "not_rated"
     ],
     "language": "python",
     "metadata": {},
     "outputs": [
      {
       "metadata": {},
       "output_type": "pyout",
       "prompt_number": 29,
       "text": [
        "American Sniper   NaN\n",
        "Interstellar      NaN\n",
        "Gone Girl         NaN\n",
        "Name: Suyendra, dtype: float64"
       ]
      }
     ],
     "prompt_number": 29
    },
    {
     "cell_type": "code",
     "collapsed": false,
     "input": [
      "print \"Pearson Correlation coefficient of :\"\n",
      "a= []\n",
      "for i in range(0, 23, 1): # as there are 23 rows(M.shape), range(0,23) \n",
      "    cor=pearson(M.ix[13], M.ix[i])\n",
      "    print \"(\" + M.index[13] + \" , \" + M.index[i] + \") :\", cor\n",
      "    a.append(cor)"
     ],
     "language": "python",
     "metadata": {},
     "outputs": [
      {
       "output_type": "stream",
       "stream": "stdout",
       "text": [
        "Pearson Correlation coefficient of :\n",
        "(Suyendra , Mike) : 5.35397084634e-17\n",
        "(Suyendra , HJ SONG) : 0.0414944132536\n",
        "(Suyendra , Ryan Hansen) : 0.796795909208\n",
        "(Suyendra , Olumuyiwa Durojaiye) : -0.471321100072\n",
        "(Suyendra , Charlie) : -0.0637899188825\n",
        "(Suyendra , Sina Tuy) : 0.204307311578\n",
        "(Suyendra , Pavithra Shetty) : 0.0414458560679\n",
        "(Suyendra , Sara Collins) : 0.112235908803\n",
        "(Suyendra , Jonathan Doll) : 0.394311713717\n",
        "(Suyendra , saikiran reddy) : -0.256578842909\n",
        "(Suyendra , Aishwarya reddy) : -0.114210885717\n",
        "(Suyendra , Brant Mullinix) : 0.219981851437\n",
        "(Suyendra , Sai Sampath) : -0.114210885717\n",
        "(Suyendra , Suyendra) : 1.0\n",
        "(Suyendra , Sai Yallapragada) : 0.195616657177\n",
        "(Suyendra , Akhilesh) : 0.411241445096\n",
        "(Suyendra , Sundar Prasad) : -0.448943635211\n",
        "(Suyendra , Evan Piercy) : -0.3281877744\n",
        "(Suyendra , Jessica Fong) : 0.0694985875199\n",
        "(Suyendra , Onsiri Tapsarn) : nan\n",
        "(Suyendra , Anirudh Thota) : -0.0756604787858\n",
        "(Suyendra , Greg Werner) : -0.0191071562919\n",
        "(Suyendra , Violeta Lee Fay) : -0.66135643506\n"
       ]
      }
     ],
     "prompt_number": 30
    },
    {
     "cell_type": "code",
     "collapsed": false,
     "input": [
      "def pred_rate(x, a):\n",
      "    \"\"\"\n",
      "    Takes two parameters 'x' and 'a'. \n",
      "    Where 'x' a list of rates given by classmates. \n",
      "    'a' is a array that has corresponding pearson correlation coefficientreturn (weights for the given rates).\n",
      "    predicted rate is calculated as rate= (x[0]*a[0] + x[1]*a[1] +...+x[i]*a[i]) / (a[0]+a[1]+..+a[i]) \n",
      "    returns predicted rate \n",
      "    \"\"\"\n",
      "    j=0\n",
      "    k=0\n",
      "    for i in range(0, 23, 1): # as there are 23 rows(x.shape), range(0,23) \n",
      "        if x.irow(i)>0 and a[i]>0: \n",
      "            j= j+(a[i]*x.irow(i))\n",
      "            k= k+a[i]\n",
      "        else:\n",
      "            continue\n",
      "    return j/k"
     ],
     "language": "python",
     "metadata": {},
     "outputs": [],
     "prompt_number": 31
    },
    {
     "cell_type": "code",
     "collapsed": false,
     "input": [
      "print \"The ratings for the movie that I did not watch]:\"\n",
      "for i in range(0, 3, 1): # as there are 12 rows(not_rated.shape), range(0,12) \n",
      "    x=M[not_rated.index[i]]\n",
      "    rate=pred_rate(x, a)\n",
      "    print not_rated.index[i] +\": \", rate.round(1)"
     ],
     "language": "python",
     "metadata": {},
     "outputs": [
      {
       "output_type": "stream",
       "stream": "stdout",
       "text": [
        "The ratings for the movie that I did not watch]:\n",
        "American Sniper:  5.0\n",
        "Interstellar:  5.0\n",
        "Gone Girl:  3.2\n"
       ]
      }
     ],
     "prompt_number": 32
    },
    {
     "cell_type": "code",
     "collapsed": false,
     "input": [],
     "language": "python",
     "metadata": {},
     "outputs": []
    }
   ],
   "metadata": {}
  }
 ]
}